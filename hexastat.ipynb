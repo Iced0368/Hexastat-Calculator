{
 "cells": [
  {
   "cell_type": "markdown",
   "metadata": {},
   "source": [
    "### Workspace for quick operations, independent of page behavior ###"
   ]
  },
  {
   "cell_type": "code",
   "execution_count": 1,
   "metadata": {},
   "outputs": [],
   "source": [
    "import numpy as np\n",
    "import matplotlib.pyplot as plt\n",
    "import copy\n",
    "from hexatable import hexa_table, hexa_table_frag, hexa_frag_cost, hex_frag_multiplier, hexa_prob\n",
    "from hexa_strategy import HexaStrategyModel\n",
    "\n",
    "np.set_printoptions(precision=4, suppress=True)"
   ]
  },
  {
   "cell_type": "code",
   "execution_count": 2,
   "metadata": {},
   "outputs": [],
   "source": [
    "max_level = 10  # 총 단계 수\n",
    "max_attempts = 20  # 최대 시도 횟수\n",
    "\n",
    "def reinforce(table, x, num_reinforcements, do_compress=True):\n",
    "    init = table.create_vector(x)\n",
    "    result = init @ np.linalg.matrix_power(\n",
    "        table.get_matrix(),\n",
    "        num_reinforcements\n",
    "    )\n",
    "    if do_compress:\n",
    "        return table.compress_state_dict(table.vector_to_state_dict(result), [0])\n",
    "    else:\n",
    "        return result\n",
    "\n",
    "\n",
    "def steady_state_distribution(M):\n",
    "    pi = np.linalg.matrix_power(M, 1 << 64)\n",
    "    return pi\n",
    "\n",
    "\n",
    "def matrix_semi_inf_geometric_series(M):\n",
    "    I = np.eye(M.shape[0])\n",
    "\n",
    "    Q = steady_state_distribution(M)\n",
    "    Z = M - Q\n",
    "\n",
    "    inv_matrix = np.linalg.inv(I - Z)\n",
    "    \n",
    "    return inv_matrix \n",
    "\n",
    "\n",
    "def matrix_power_series(M, n):\n",
    "    I = np.eye(M.shape[0])\n",
    "\n",
    "    Q = steady_state_distribution(M)\n",
    "    Z = M - Q\n",
    "\n",
    "    Z_powered = np.linalg.matrix_power(Z, n+1)\n",
    "    inv_matrix = np.linalg.inv(I - Z)\n",
    "    \n",
    "    return (I - Z_powered) @ inv_matrix + n*Q\n",
    "    "
   ]
  },
  {
   "cell_type": "code",
   "execution_count": 3,
   "metadata": {},
   "outputs": [
    {
     "name": "stdout",
     "output_type": "stream",
     "text": [
      "[1. 1. 1. 1. 1. 1. 1. 1. 1. 1. 1. 1. 1. 1. 1. 1. 1. 1. 1. 1. 1. 1. 1. 1.\n",
      " 1. 1. 1. 1. 1. 1. 1. 1. 1. 1. 1. 1. 1. 1. 1. 1. 1. 1. 1. 1. 1. 1. 1. 1.\n",
      " 1. 1. 1. 1. 1. 1. 1. 1. 1. 1. 1. 1. 1. 1. 1. 1. 1. 1. 1. 1. 1. 1. 1. 1.\n",
      " 1. 1. 1. 1. 1. 1. 1. 1. 1. 1. 1. 1. 1. 1. 1. 1. 1. 1. 1. 1. 1. 1. 1. 1.\n",
      " 1. 1. 1. 1. 1. 1. 1. 1. 1. 1. 1. 1. 1. 1. 1. 1. 1. 1. 1. 1. 1. 1. 1. 1.\n",
      " 1. 1. 1. 1. 1. 1. 1. 1. 1. 1. 1. 1. 1. 1. 1. 1. 1. 1. 1. 1. 1. 1. 1. 1.\n",
      " 1. 1. 1. 1. 1. 1. 1. 1. 1. 1. 1. 1. 1. 1. 1. 1. 1. 1. 1. 1. 1. 1. 1. 1.\n",
      " 1. 1. 1. 1. 1. 1. 1. 1.]\n",
      "[0. 0. 0. 0. 0. 0. 0. 0. 0. 0. 1.]\n"
     ]
    },
    {
     "data": {
      "image/png": "[encoded data removed]",
      "text/plain": [
       "<Figure size 1000x300 with 1 Axes>"
      ]
     },
     "metadata": {},
     "output_type": "display_data"
    },
    {
     "name": "stdout",
     "output_type": "stream",
     "text": [
      "10255.904926029763\n",
      "145148.1935928751\n"
     ]
    }
   ],
   "source": [
    "goal_level = 1 # 목표 레벨\n",
    "high_value_preference = False\n",
    "\n",
    "frag_meso = 0.07\n",
    "init_meso = 0.1\n",
    "\n",
    "is_sunday = False\n",
    "\n",
    "hsm = HexaStrategyModel(goal_level, hexa_frag_cost, hexa_prob[is_sunday], frag_meso, init_meso, max_level, max_attempts, high_value_preference=high_value_preference)\n",
    "\n",
    "\n",
    "num_reinforcements = 1 << 64\n",
    "x = {(0, 0): 1} # main-level, attempts\n",
    "\n",
    "######## Apply Strategy ########\n",
    "\n",
    "table = hexa_table[is_sunday]\n",
    "strategy_table = copy.deepcopy(table)\n",
    "\n",
    "\n",
    "for m in range(max_level+1):\n",
    "    for t in range(max_attempts+1):\n",
    "        if hsm.should_stop[m][t]:\n",
    "            strategy_table.clear_transition((m, t))\n",
    "            strategy_table.add_transition((m, t), (0, 0), 1.0)\n",
    "\n",
    "\n",
    "if high_value_preference:\n",
    "    for level in range(goal_level, max_level+1):\n",
    "        strategy_table.clear_transition((level, max_attempts))\n",
    "        strategy_table.add_transition((level, max_attempts), (level, max_attempts), 1.0)\n",
    "else:\n",
    "    for level in range(0, goal_level+1):\n",
    "        strategy_table.clear_transition((level, max_attempts))\n",
    "        strategy_table.add_transition((level, max_attempts), (level, max_attempts), 1.0)\n",
    "\n",
    "strategy_table.compile()\n",
    "print(np.sum(strategy_table.get_matrix(), axis=1))\n",
    "\n",
    "######## Do Reinforce ########\n",
    "\n",
    "result = reinforce(strategy_table, x, num_reinforcements)\n",
    "\n",
    "result_vector = np.zeros(max_level+1)\n",
    "for i in range(max_level+1):\n",
    "    result_vector[i] = result[(i,)]\n",
    "\n",
    "\n",
    "######## Log & Visualize ########\n",
    "\n",
    "print(result_vector)\n",
    "plt.figure(figsize=(10, 3))\n",
    "plt.bar(range(len(result_vector)), result_vector)\n",
    "plt.show()\n",
    "\n",
    "\n",
    "def cost_branch(state, hsm, only_frag=False):\n",
    "    i, j = state\n",
    "    if hsm.should_stop[i][j]:\n",
    "        return init_meso if not only_frag else 0\n",
    "    elif j == 20:\n",
    "        return 0\n",
    "    else:\n",
    "        return hexa_frag_cost[i] * hex_frag_multiplier * frag_meso if not only_frag else hexa_frag_cost[i] * hex_frag_multiplier\n",
    "\n",
    "\n",
    "strategy_cost = strategy_table.create_vector({\n",
    "    (i, j) : cost_branch((i, j), hsm) for i, j in strategy_table.states\n",
    "})\n",
    "\n",
    "strategy_frag_cost = strategy_table.create_vector({\n",
    "    (i, j) : cost_branch((i, j), hsm, True) for i, j in strategy_table.states\n",
    "})\n",
    "\n",
    "xvector = strategy_table.create_vector(x)\n",
    "migs = matrix_semi_inf_geometric_series(strategy_table.get_matrix())\n",
    "\n",
    "expected_cost = xvector @ migs @ strategy_cost.T\n",
    "expected_frag_cost = xvector @ migs @ strategy_frag_cost.T\n",
    "\n",
    "print(expected_cost)\n",
    "print(expected_frag_cost)"
   ]
  },
  {
   "cell_type": "code",
   "execution_count": 13,
   "metadata": {},
   "outputs": [
    {
     "name": "stdout",
     "output_type": "stream",
     "text": [
      "(363, 363)\n",
      "[0.013  0.1397 0.     0.     0.     0.     0.     0.     0.     0.\n",
      " 0.    ]\n"
     ]
    },
    {
     "data": {
      "image/png": "[encoded data removed]",
      "text/plain": [
       "<Figure size 1000x300 with 1 Axes>"
      ]
     },
     "metadata": {},
     "output_type": "display_data"
    },
    {
     "name": "stdout",
     "output_type": "stream",
     "text": [
      "0.012970738062682478\n",
      "0.1526556058472336\n"
     ]
    }
   ],
   "source": [
    "goal_level = 1 # 목표 레벨\n",
    "high_value_preference = False\n",
    "\n",
    "frag_meso = 0.07\n",
    "init_meso = 0.1\n",
    "\n",
    "is_sunday = False\n",
    "\n",
    "hsm = HexaStrategyModel(goal_level, hexa_frag_cost, hexa_prob[is_sunday], frag_meso, init_meso, max_level, max_attempts, high_value_preference=high_value_preference)\n",
    "\n",
    "\n",
    "num_frags = 10000\n",
    "x = {(0, 0, 0): 1} # main-level, attempts, spent-frags\n",
    "\n",
    "######## Apply Strategy ########\n",
    "\n",
    "table = hexa_table_frag[is_sunday]\n",
    "strategy_table = copy.deepcopy(table)\n",
    "\n",
    "\n",
    "init_states = []\n",
    "for fsstate, prob in strategy_table.transitions.items():\n",
    "    from_state, to_state = fsstate\n",
    "    m, t, f = to_state\n",
    "    if hsm.should_stop[m][t] and f == 0:\n",
    "        init_states.append((from_state, to_state, prob))\n",
    "\n",
    "for from_state, to_state, prob in init_states:\n",
    "    del strategy_table.transitions[(from_state, to_state)]\n",
    "    prev_prob = strategy_table.transitions.get((from_state, (0, 0, 0)), 0)\n",
    "    strategy_table.add_transition(from_state, (0, 0, 0), prev_prob + prob)\n",
    "\n",
    "\n",
    "if high_value_preference:\n",
    "    for level in range(goal_level, max_level+1):\n",
    "        strategy_table.clear_transition((level, max_attempts, 0))\n",
    "        strategy_table.add_transition((level, max_attempts, 0), (level, max_attempts, 0), 1.0)   \n",
    "else:\n",
    "    for level in range(0, goal_level+1):\n",
    "        strategy_table.clear_transition((level, max_attempts, 0))\n",
    "        strategy_table.add_transition((level, max_attempts, 0), (level, max_attempts, 0), 1.0)\n",
    "\n",
    "strategy_table.compile()\n",
    "print(strategy_table.get_matrix().shape)\n",
    "\n",
    "result_vector = np.zeros(max_level+1)\n",
    "\n",
    "######## Do Reinforce ########\n",
    "if high_value_preference:\n",
    "    result = reinforce(strategy_table, x, num_frags // hex_frag_multiplier)\n",
    "\n",
    "    for i in range(max_level+1):\n",
    "        result_vector[i] = result[(i,)]\n",
    "\n",
    "else:\n",
    "    result = reinforce(strategy_table, x, num_frags // hex_frag_multiplier, False)\n",
    "    result = strategy_table.compress_state_dict(strategy_table.vector_to_state_dict(result), [0, 1])\n",
    "    for i in range(max_level+1):\n",
    "        result_vector[i] = result.get((i,max_attempts), 0)\n",
    "\n",
    "######## Log & Visualize ########\n",
    "\n",
    "print(result_vector)\n",
    "plt.figure(figsize=(10, 3))\n",
    "plt.bar(range(len(result_vector)), result_vector)\n",
    "plt.show()\n",
    "\n",
    "if high_value_preference:\n",
    "    print(np.sum(result_vector[goal_level:]))\n",
    "else:\n",
    "    print(np.sum(result_vector[:goal_level]))\n",
    "\n",
    "print(np.sum(result_vector))"
   ]
  },
  {
   "cell_type": "code",
   "execution_count": null,
   "metadata": {},
   "outputs": [
    {
     "data": {
      "image/png": "[encoded data removed]",
      "text/plain": [
       "<Figure size 640x480 with 1 Axes>"
      ]
     },
     "metadata": {},
     "output_type": "display_data"
    }
   ],
   "source": [
    "x = {(0, 0, 0): 1}\n",
    "y = {}\n",
    "\n",
    "for state in strategy_table.states:\n",
    "    m, t, f = state\n",
    "    if m >= goal_level:\n",
    "        y[state] = 1\n",
    "\n",
    "init = strategy_table.create_vector(x)\n",
    "goal_filter = strategy_table.create_vector(y)\n",
    "\n",
    "M = strategy_table.get_matrix()\n",
    "M_powered = np.eye(M.shape[0])\n",
    "\n",
    "N = 1000\n",
    "cdf = np.zeros(N)\n",
    "\n",
    "for n in range(0, N):\n",
    "    cdf[n] = init @ M_powered @ goal_filter\n",
    "    M_powered = M_powered @ M\n",
    "\n",
    "plt.plot(np.arange(0, hex_frag_multiplier*N, hex_frag_multiplier), cdf)\n",
    "plt.show()\n"
   ]
  }
 ],
 "metadata": {
  "kernelspec": {
   "display_name": "Python 3",
   "language": "python",
   "name": "python3"
  },
  "language_info": {
   "codemirror_mode": {
    "name": "ipython",
    "version": 3
   },
   "file_extension": ".py",
   "mimetype": "text/x-python",
   "name": "python",
   "nbconvert_exporter": "python",
   "pygments_lexer": "ipython3",
   "version": "3.10.9"
  }
 },
 "nbformat": 4,
 "nbformat_minor": 2
}
